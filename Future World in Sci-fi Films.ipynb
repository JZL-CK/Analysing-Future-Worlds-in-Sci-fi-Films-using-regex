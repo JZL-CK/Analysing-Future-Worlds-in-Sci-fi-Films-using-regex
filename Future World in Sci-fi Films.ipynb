{
 "cells": [
  {
   "cell_type": "code",
   "execution_count": null,
   "id": "7719acc5",
   "metadata": {},
   "outputs": [],
   "source": [
    "!pip install pdfplumber\n",
    "!pip install vaderSentiment"
   ]
  },
  {
   "cell_type": "markdown",
   "id": "86c5e6f9",
   "metadata": {},
   "source": [
    " ## Extract Text from the script"
   ]
  },
  {
   "cell_type": "code",
   "execution_count": 3,
   "id": "73d5d458",
   "metadata": {},
   "outputs": [
    {
     "name": "stdout",
     "output_type": "stream",
     "text": [
      "Extracting text from: 2001_A_SPACE_ODYSSEY_-_Pink_Revision.pdf\n",
      "Extracting text from: AD_ASTRA.pdf\n",
      "Extracting text from: ALIEN.pdf\n",
      "Extracting text from: ARRIVAL.pdf\n",
      "Extracting text from: AVATAR.pdf\n",
      "Extracting text from: Avengers_Endgame.pdf\n",
      "Extracting text from: A_Quiet_Place.pdf\n",
      "Extracting text from: BACK_TO_THE_FUTURE.pdf\n",
      "Extracting text from: BLACK_PANTHER.pdf\n",
      "Extracting text from: BLADE_RUNNER.pdf\n",
      "Extracting text from: Blade_Runner_2049.pdf\n",
      "Extracting text from: DONNIE_DARKO.pdf\n",
      "Extracting text from: Dredd.pdf\n",
      "Extracting text from: Eternal_Sunshine_of_the_Spotless_Mind.pdf\n",
      "Extracting text from: Everything_Everywher_All_At_Once.pdf\n",
      "Extracting text from: Ex_Machina.pdf\n",
      "Extracting text from: GHOSTBUSTERS.pdf\n",
      "Extracting text from: Gravity.pdf\n",
      "Extracting text from: GUARDIANS_OF_THE_GALAXY_VOL.pdf\n",
      "Extracting text from: Her.pdf\n",
      "Extracting text from: Inception.pdf\n",
      "Extracting text from: INTERSTELLAR.pdf\n",
      "Extracting text from: Iron_Man_Full_Script.pdf\n",
      "Extracting text from: JURASSIC_PARK_-_Green_Revision.pdf\n",
      "Extracting text from: Logan.pdf\n",
      "Extracting text from: NIGHT_OF_THE_LIVING_DEAD.pdf\n",
      "Extracting text from: Star_Wars_A_New_Hope.pdf\n",
      "Extracting text from: Star_Wars_The_Force_Awakens.pdf\n",
      "Extracting text from: Terminator.pdf\n",
      "Extracting text from: Terminator_2_Judgment_Day.pdf\n",
      "Extracting text from: The_Avengers.pdf\n",
      "Extracting text from: THE_FIFTH_ELEMENT.pdf\n",
      "Extracting text from: THE_FLY.pdf\n",
      "Extracting text from: The_Martian.pdf\n",
      "Extracting text from: The_Matrix_Full_Script.pdf\n",
      "Extracting text from: THE_POSTMAN.pdf\n",
      "Extracting text from: THE_PREDATOR.pdf\n",
      "Extracting text from: THE_TRUMAN_SHOW.pdf\n",
      "Extracting text from: Thor_Ragnarok.pdf\n",
      "Extracting text from: WAR_FOR_THE_PLANET_OF_THE_APES.pdf\n",
      "2001_ A SPACE ODYSSEY - PINK REVISION\n",
      "Written by\n",
      "Ryan Doherty\n",
      "Based on, If Any\n",
      "Address\n",
      "Phone Number1.\n",
      "TITLE CARD:\n",
      "\"PART I\n",
      "AFRICA\n",
      "3,000,000 YEARS AGO\"\n",
      "VIEWS OF AFRICAN DRYLANDS – DROUGHT\n",
      "The remorseless drought had lasted now for ten million years,\n",
      "and would not end for another million. The reign of the\n",
      "terrible lizards had long since passed, but here on the\n",
      "continent which would one day be known as Africa, the battle\n",
      "for survival had reached a new climax of ferocity, and the\n",
      "victor was not yet in sight. In this dry and barren land,\n",
      "only the small or the swift or the fierce could flourish, or\n",
      "even hope to exist.\n",
      "1 INT./EXT. CAVES – MOONWATCHER 1\n",
      "The man-apes of the field had none of these attributes, and\n",
      "they were on the long, pathetic road to racial extinction.\n",
      "About twenty of them occupied a group of caves overlooking a\n",
      "small, parched valley, divided by a sluggish, brown stream.\n",
      "The tribe had always been hungry, and now it was starving. As\n",
      "the first dim glow of dawn creeps into the ca\n"
     ]
    }
   ],
   "source": [
    "import pdfplumber\n",
    "import os\n",
    "\n",
    "# Function to extract text from a single PDF\n",
    "def extract_text_from_pdf(pdf_file):0\n",
    "    with pdfplumber.open(pdf_file) as pdf:\n",
    "        text = ''\n",
    "        for page in pdf.pages:\n",
    "            text += page.extract_text()\n",
    "    return text\n",
    "\n",
    "# Directory containing all the PDFs (set to the current directory)\n",
    "pdf_directory = \"./\"  \n",
    "\n",
    "# List to store the extracted text from all PDFs\n",
    "all_texts = {}\n",
    "\n",
    "# Loop through all files in the directory\n",
    "for filename in os.listdir(pdf_directory):\n",
    "    if filename.endswith(\".pdf\"):  # Only process PDF files\n",
    "        file_path = os.path.join(pdf_directory, filename)\n",
    "        print(f\"Extracting text from: {filename}\")\n",
    "        text = extract_text_from_pdf(file_path)\n",
    "        all_texts[filename] = text  # Store the extracted text in a dictionary\n",
    "\n",
    "# Example: Print the first 1000 characters of the first script\n",
    "first_script = list(all_texts.values())[0]\n",
    "print(first_script[:1000])\n"
   ]
  },
  {
   "cell_type": "markdown",
   "id": "4a2a4028",
   "metadata": {},
   "source": [
    " ## Preprocess and Clean the Extracted Text "
   ]
  },
  {
   "cell_type": "code",
   "execution_count": 6,
   "id": "14acb7a0",
   "metadata": {},
   "outputs": [],
   "source": [
    "import re\n",
    "\n",
    "def clean_script_text(text):\n",
    "    # Remove scene headers (e.g., \"INT. ORION-III PASSENGER AREA\")\n",
    "    text = re.sub(r'\\b(INT\\.|EXT\\.)[A-Z\\s\\d-]+\\d{1,2}', '', text)\n",
    "    \n",
    "    # Remove character names in all caps (optional)\n",
    "    text = re.sub(r'\\b[A-Z]+\\b', '', text)\n",
    "    \n",
    "    # Remove other unwanted elements (e.g., stage directions in parentheses)\n",
    "    text = re.sub(r'\\(.*?\\)', '', text)\n",
    "    \n",
    "    return text\n",
    "\n",
    "# Apply cleaning to all scripts\n",
    "cleaned_texts = {filename: clean_script_text(text) for filename, text in all_texts.items()}\n"
   ]
  },
  {
   "cell_type": "markdown",
   "id": "5f06fdf2",
   "metadata": {},
   "source": [
    "## Extract Specific Sections for Analysis"
   ]
  },
  {
   "cell_type": "code",
   "execution_count": 8,
   "id": "a0ec101d",
   "metadata": {},
   "outputs": [
    {
     "name": "stdout",
     "output_type": "stream",
     "text": [
      "dict_keys(['2001_A_SPACE_ODYSSEY_-_Pink_Revision.pdf', 'AD_ASTRA.pdf', 'ALIEN.pdf', 'ARRIVAL.pdf', 'AVATAR.pdf', 'Avengers_Endgame.pdf', 'A_Quiet_Place.pdf', 'BACK_TO_THE_FUTURE.pdf', 'BLACK_PANTHER.pdf', 'BLADE_RUNNER.pdf', 'Blade_Runner_2049.pdf', 'DONNIE_DARKO.pdf', 'Dredd.pdf', 'Eternal_Sunshine_of_the_Spotless_Mind.pdf', 'Everything_Everywher_All_At_Once.pdf', 'Ex_Machina.pdf', 'GHOSTBUSTERS.pdf', 'Gravity.pdf', 'GUARDIANS_OF_THE_GALAXY_VOL.pdf', 'Her.pdf', 'Inception.pdf', 'INTERSTELLAR.pdf', 'Iron_Man_Full_Script.pdf', 'JURASSIC_PARK_-_Green_Revision.pdf', 'Logan.pdf', 'NIGHT_OF_THE_LIVING_DEAD.pdf', 'Star_Wars_A_New_Hope.pdf', 'Star_Wars_The_Force_Awakens.pdf', 'Terminator.pdf', 'Terminator_2_Judgment_Day.pdf', 'The_Avengers.pdf', 'THE_FIFTH_ELEMENT.pdf', 'THE_FLY.pdf', 'The_Martian.pdf', 'The_Matrix_Full_Script.pdf', 'THE_POSTMAN.pdf', 'THE_PREDATOR.pdf', 'THE_TRUMAN_SHOW.pdf', 'Thor_Ragnarok.pdf', 'WAR_FOR_THE_PLANET_OF_THE_APES.pdf'])\n"
     ]
    }
   ],
   "source": [
    "# Print available keys (filenames) to ensure the right one is used\n",
    "print(future_world_texts.keys())\n"
   ]
  },
  {
   "cell_type": "code",
   "execution_count": 23,
   "id": "662527f3",
   "metadata": {},
   "outputs": [],
   "source": [
    "def extract_future_world_sections(text):\n",
    "    # Comprehensive list of futuristic keywords\n",
    "    keywords = [\n",
    "        \"AI\", \"artificial intelligence\", \"robot\", \"cybernetics\", \"quantum computing\", \"virtual reality\", \"hologram\",\n",
    "        \"space\", \"spaceship\", \"colonization\", \"Mars\", \"moon\", \"warp drive\", \"interstellar\", \"black hole\", \n",
    "        \"dystopia\", \"utopia\", \"post-apocalyptic\", \"surveillance\", \"cyberpunk\", \"genetic engineering\", \n",
    "        \"mutants\", \"cryogenics\", \"megacity\", \"immortality\", \"superhuman\", \"clones\", \"telepathy\", \n",
    "        \"alien\", \"extraterrestrial\", \"first contact\", \"terraforming\", \"fusion energy\", \n",
    "        \"environmental collapse\", \"laser weapon\", \"cyberwarfare\"\n",
    "    ]\n",
    "    \n",
    "    # Create a regex pattern that captures up to 300 characters before and after the keyword\n",
    "    # Use non-capturing groups (?: ...) for keywords to avoid capturing only the keyword\n",
    "    pattern = r'(?i).{0,500}\\b(?:' + '|'.join(keywords) + r')\\b.{0,300}'\n",
    "    \n",
    "    # Extract sections that contain the keywords\n",
    "    future_world_sections = re.findall(pattern, text)\n",
    "    \n",
    "    # Join all sections into a single string to analyze or store\n",
    "    return ' '.join(future_world_sections)\n",
    "\n"
   ]
  },
  {
   "cell_type": "code",
   "execution_count": 25,
   "id": "85c82ad6",
   "metadata": {},
   "outputs": [
    {
     "name": "stdout",
     "output_type": "stream",
     "text": [
      "Script: 2001_A_SPACE_ODYSSEY_-_Pink_Revision.pdf\n",
      "Over the valley, a full moon rises, and a cold wind blows interest to the Moon, and though he could not remember it, But no Utopia is perfect, and this one had two blemishes. The The raw sunlight of space dazzles from the polished metal space station. The Co-Pilot in radio communication with the space station. initial. For example: Moon, Moon, American, Floyd, Heywood, . inherent in space travel and an. the Space Carrier to advise you Moon or en route to the Moon. 'm at Space Station Five, darling. from the moon. We've just spent up to the moon Earth much smaller than as seen from space station. standard Space-Station-to-Lunar enjoying the wonders of Space. returning Mars flight. Moon very large. but not death, for the Moon had The crew and docking control people on the moon go through the Moon was undoubtedly the low All in space suits minus helmets. The photographs are taken from a satellite of the Moon's Mars photos. small figures in space suits slowly walk toward excavation.33. The moon would have made an involuntarily tries to block his ears with his space suited Mars, in the cold loneliness where Space-Monitor-79 drifts slowly were patiently noted by Deep-Space- Orbiter -15, circling Mars twice a leaped from the face of the Moon See Earth and Moon small. Earth and Moon can be seen in background. continuation of the space program, Pulsing along. Earth and Moon. Poole in space suit doing preliminary check out. into space. The pod goes hurtling off into space. space. Inside Emergency Airlock are emergency air supply, two space Dark. Bowman emerges from airlock wearing space suit and Bowman in space suit obtains new alignment telescope, new continuation of the space program moon about four million years ago, of an alien world, at least four this alien world are potentially excavated on the Moon. In its making, the moon had been deeps of space, they felt awe and deserts of dying Mars and presently them, the changeless Moon still the structure of space itself, and interstices of space. But despite first robot probe, which descended short to be measured, space turned\n"
     ]
    }
   ],
   "source": [
    "# Apply extraction to all cleaned texts\n",
    "future_world_texts = {filename: extract_future_world_sections(text) for filename, text in cleaned_texts.items()}\n",
    "\n",
    "# Example: Print the first 1000 characters from one script\n",
    "first_script_key = next(iter(future_world_texts))  # Get the first script key\n",
    "print(f\"Script: {first_script_key}\")\n",
    "print(future_world_texts[first_script_key][:5000])  # Print first 5000 characters\n"
   ]
  },
  {
   "cell_type": "markdown",
   "id": "d785b926",
   "metadata": {},
   "source": [
    " ## Sentiment Analysis of Extracted Text"
   ]
  },
  {
   "cell_type": "code",
   "execution_count": 27,
   "id": "b89e6e8e",
   "metadata": {},
   "outputs": [
    {
     "name": "stdout",
     "output_type": "stream",
     "text": [
      "{'neg': 0.06, 'neu': 0.878, 'pos': 0.062, 'compound': -0.2566}\n",
      "{'neg': 0.076, 'neu': 0.859, 'pos': 0.064, 'compound': -0.2244}\n"
     ]
    }
   ],
   "source": [
    "from vaderSentiment.vaderSentiment import SentimentIntensityAnalyzer\n",
    "\n",
    "# Initialize sentiment analyzer\n",
    "analyzer = SentimentIntensityAnalyzer()\n",
    "\n",
    "def analyze_sentiment(text):\n",
    "    return analyzer.polarity_scores(text)\n",
    "\n",
    "# Apply sentiment analysis to all future world texts\n",
    "sentiment_scores = {filename: analyze_sentiment(text) for filename, text in future_world_texts.items()}\n",
    "\n",
    "# Example: Print sentiment scores for one script\n",
    "print(sentiment_scores['GUARDIANS_OF_THE_GALAXY_VOL.pdf'])\n",
    "print(sentiment_scores['WAR_FOR_THE_PLANET_OF_THE_APES.pdf'])"
   ]
  },
  {
   "cell_type": "markdown",
   "id": "d82c0076",
   "metadata": {},
   "source": [
    " ## Aggregate and Analyze Sentiment"
   ]
  },
  {
   "cell_type": "code",
   "execution_count": 32,
   "id": "31cb786a",
   "metadata": {},
   "outputs": [
    {
     "name": "stdout",
     "output_type": "stream",
     "text": [
      "                                            neg    neu    pos  compound  \\\n",
      "2001_A_SPACE_ODYSSEY_-_Pink_Revision.pdf  0.059  0.887  0.054    0.0436   \n",
      "AD_ASTRA.pdf                              0.047  0.903  0.051   -0.7092   \n",
      "ALIEN.pdf                                 0.044  0.914  0.042   -0.2023   \n",
      "ARRIVAL.pdf                               0.045  0.927  0.028   -0.3376   \n",
      "AVATAR.pdf                                0.027  0.933  0.040    0.5106   \n",
      "\n",
      "                                         overall_sentiment  \n",
      "2001_A_SPACE_ODYSSEY_-_Pink_Revision.pdf           Neutral  \n",
      "AD_ASTRA.pdf                                      Negative  \n",
      "ALIEN.pdf                                         Negative  \n",
      "ARRIVAL.pdf                                       Negative  \n",
      "AVATAR.pdf                                        Positive  \n",
      "                                             neg    neu    pos  compound  \\\n",
      "2001_A_SPACE_ODYSSEY_-_Pink_Revision.pdf   0.059  0.887  0.054    0.0436   \n",
      "AD_ASTRA.pdf                               0.047  0.903  0.051   -0.7092   \n",
      "ALIEN.pdf                                  0.044  0.914  0.042   -0.2023   \n",
      "ARRIVAL.pdf                                0.045  0.927  0.028   -0.3376   \n",
      "AVATAR.pdf                                 0.027  0.933  0.040    0.5106   \n",
      "Avengers_Endgame.pdf                       0.025  0.855  0.120    0.8504   \n",
      "A_Quiet_Place.pdf                          0.000  0.864  0.136    0.7650   \n",
      "BACK_TO_THE_FUTURE.pdf                     0.091  0.845  0.064   -0.6884   \n",
      "BLACK_PANTHER.pdf                          0.000  0.935  0.065    0.4199   \n",
      "BLADE_RUNNER.pdf                           0.051  0.882  0.067    0.1531   \n",
      "Blade_Runner_2049.pdf                      0.053  0.872  0.076    0.2500   \n",
      "DONNIE_DARKO.pdf                           0.000  1.000  0.000    0.0000   \n",
      "Dredd.pdf                                  0.047  0.921  0.032   -0.0772   \n",
      "Eternal_Sunshine_of_the_Spotless_Mind.pdf  0.000  1.000  0.000    0.0000   \n",
      "Everything_Everywher_All_At_Once.pdf       0.072  0.839  0.089   -0.0772   \n",
      "Ex_Machina.pdf                             0.000  0.973  0.027    0.5456   \n",
      "GHOSTBUSTERS.pdf                           0.064  0.856  0.080    0.1531   \n",
      "Gravity.pdf                                0.018  0.976  0.006   -0.5423   \n",
      "GUARDIANS_OF_THE_GALAXY_VOL.pdf            0.060  0.878  0.062   -0.2566   \n",
      "Her.pdf                                    0.012  0.902  0.087    0.8834   \n",
      "Inception.pdf                              0.131  0.775  0.094   -0.3818   \n",
      "INTERSTELLAR.pdf                           0.034  0.939  0.027   -0.2755   \n",
      "Iron_Man_Full_Script.pdf                   0.026  0.887  0.087    0.7184   \n",
      "JURASSIC_PARK_-_Green_Revision.pdf         0.000  0.923  0.077    0.8313   \n",
      "Logan.pdf                                  0.073  0.882  0.045   -0.5859   \n",
      "NIGHT_OF_THE_LIVING_DEAD.pdf               0.000  1.000  0.000    0.0000   \n",
      "Star_Wars_A_New_Hope.pdf                   0.066  0.898  0.036   -0.9614   \n",
      "Star_Wars_The_Force_Awakens.pdf            0.039  0.943  0.018   -0.5562   \n",
      "Terminator.pdf                             0.103  0.827  0.069   -0.2263   \n",
      "Terminator_2_Judgment_Day.pdf              0.084  0.845  0.071   -0.1779   \n",
      "The_Avengers.pdf                           0.123  0.828  0.048   -0.5040   \n",
      "THE_FIFTH_ELEMENT.pdf                      0.031  0.870  0.099    0.8856   \n",
      "THE_FLY.pdf                                0.084  0.842  0.074   -0.1779   \n",
      "The_Martian.pdf                            0.064  0.874  0.061   -0.4271   \n",
      "The_Matrix_Full_Script.pdf                 0.067  0.910  0.023   -0.4404   \n",
      "THE_POSTMAN.pdf                            0.070  0.895  0.036   -0.3400   \n",
      "THE_PREDATOR.pdf                           0.110  0.853  0.037   -0.9203   \n",
      "THE_TRUMAN_SHOW.pdf                        0.048  0.952  0.000   -0.5106   \n",
      "Thor_Ragnarok.pdf                          0.056  0.894  0.050    0.3561   \n",
      "WAR_FOR_THE_PLANET_OF_THE_APES.pdf         0.076  0.859  0.064   -0.2244   \n",
      "\n",
      "                                          overall_sentiment  \n",
      "2001_A_SPACE_ODYSSEY_-_Pink_Revision.pdf            Neutral  \n",
      "AD_ASTRA.pdf                                       Negative  \n",
      "ALIEN.pdf                                          Negative  \n",
      "ARRIVAL.pdf                                        Negative  \n",
      "AVATAR.pdf                                         Positive  \n",
      "Avengers_Endgame.pdf                               Positive  \n",
      "A_Quiet_Place.pdf                                  Positive  \n",
      "BACK_TO_THE_FUTURE.pdf                             Negative  \n",
      "BLACK_PANTHER.pdf                                  Positive  \n",
      "BLADE_RUNNER.pdf                                   Positive  \n",
      "Blade_Runner_2049.pdf                              Positive  \n",
      "DONNIE_DARKO.pdf                                    Neutral  \n",
      "Dredd.pdf                                          Negative  \n",
      "Eternal_Sunshine_of_the_Spotless_Mind.pdf           Neutral  \n",
      "Everything_Everywher_All_At_Once.pdf               Negative  \n",
      "Ex_Machina.pdf                                     Positive  \n",
      "GHOSTBUSTERS.pdf                                   Positive  \n",
      "Gravity.pdf                                        Negative  \n",
      "GUARDIANS_OF_THE_GALAXY_VOL.pdf                    Negative  \n",
      "Her.pdf                                            Positive  \n",
      "Inception.pdf                                      Negative  \n",
      "INTERSTELLAR.pdf                                   Negative  \n",
      "Iron_Man_Full_Script.pdf                           Positive  \n",
      "JURASSIC_PARK_-_Green_Revision.pdf                 Positive  \n",
      "Logan.pdf                                          Negative  \n",
      "NIGHT_OF_THE_LIVING_DEAD.pdf                        Neutral  \n",
      "Star_Wars_A_New_Hope.pdf                           Negative  \n",
      "Star_Wars_The_Force_Awakens.pdf                    Negative  \n",
      "Terminator.pdf                                     Negative  \n",
      "Terminator_2_Judgment_Day.pdf                      Negative  \n",
      "The_Avengers.pdf                                   Negative  \n",
      "THE_FIFTH_ELEMENT.pdf                              Positive  \n",
      "THE_FLY.pdf                                        Negative  \n",
      "The_Martian.pdf                                    Negative  \n",
      "The_Matrix_Full_Script.pdf                         Negative  \n",
      "THE_POSTMAN.pdf                                    Negative  \n",
      "THE_PREDATOR.pdf                                   Negative  \n",
      "THE_TRUMAN_SHOW.pdf                                Negative  \n",
      "Thor_Ragnarok.pdf                                  Positive  \n",
      "WAR_FOR_THE_PLANET_OF_THE_APES.pdf                 Negative  \n"
     ]
    }
   ],
   "source": [
    "import pandas as pd\n",
    "\n",
    "# Create a DataFrame to store sentiment results\n",
    "df_sentiment = pd.DataFrame.from_dict(sentiment_scores, orient='index')\n",
    "\n",
    "# Add a column for overall sentiment classification\n",
    "df_sentiment['overall_sentiment'] = df_sentiment['compound'].apply(lambda x: 'Positive' if x >= 0.05 else ('Negative' if x <= -0.05 else 'Neutral'))\n",
    "\n",
    "# Example: Display the first few sentiment results\n",
    "print(df_sentiment.head())\n",
    "print(df_sentiment)"
   ]
  },
  {
   "cell_type": "markdown",
   "id": "24dfa8f1",
   "metadata": {},
   "source": [
    " ## Visualize Sentiment Trends"
   ]
  },
  {
   "cell_type": "code",
   "execution_count": 29,
   "id": "8c8e1273",
   "metadata": {},
   "outputs": [
    {
     "name": "stderr",
     "output_type": "stream",
     "text": [
      "C:\\Users\\JZL\\anaconda3\\Lib\\site-packages\\seaborn\\_oldcore.py:1119: FutureWarning: use_inf_as_na option is deprecated and will be removed in a future version. Convert inf values to NaN before operating instead.\n",
      "  with pd.option_context('mode.use_inf_as_na', True):\n"
     ]
    },
    {
     "data": {
      "image/png": "[encoded data removed]",
      "text/plain": [
       "<Figure size 640x480 with 1 Axes>"
      ]
     },
     "metadata": {},
     "output_type": "display_data"
    }
   ],
   "source": [
    "import seaborn as sns\n",
    "import matplotlib.pyplot as plt\n",
    "\n",
    "# Plot sentiment distribution (compound scores)\n",
    "sns.histplot(df_sentiment['compound'], bins=10, kde=True)\n",
    "plt.title('Sentiment Distribution of Future Worlds in Sci-Fi Scripts')\n",
    "plt.xlabel('Sentiment Score (Compound)')\n",
    "plt.ylabel('Frequency')\n",
    "plt.show()\n"
   ]
  },
  {
   "cell_type": "code",
   "execution_count": 30,
   "id": "fc1d2e37",
   "metadata": {},
   "outputs": [
    {
     "data": {
      "image/png": "[encoded data removed]",
      "text/plain": [
       "<Figure size 640x480 with 1 Axes>"
      ]
     },
     "metadata": {},
     "output_type": "display_data"
    }
   ],
   "source": [
    "# Count the number of scripts with positive, negative, and neutral sentiment\n",
    "sentiment_counts = df_sentiment['overall_sentiment'].value_counts()\n",
    "\n",
    "# Plot a bar chart of sentiment counts\n",
    "sns.barplot(x=sentiment_counts.index, y=sentiment_counts.values)\n",
    "plt.title('Overall Sentiment of Future Worlds in Sci-Fi Scripts')\n",
    "plt.xlabel('Sentiment')\n",
    "plt.ylabel('Number of Scripts')\n",
    "plt.show()\n"
   ]
  }
 ],
 "metadata": {
  "kernelspec": {
   "display_name": "Python 3 (ipykernel)",
   "language": "python",
   "name": "python3"
  },
  "language_info": {
   "codemirror_mode": {
    "name": "ipython",
    "version": 3
   },
   "file_extension": ".py",
   "mimetype": "text/x-python",
   "name": "python",
   "nbconvert_exporter": "python",
   "pygments_lexer": "ipython3",
   "version": "3.11.7"
  },
  "varInspector": {
   "cols": {
    "lenName": 16,
    "lenType": 16,
    "lenVar": 40
   },
   "kernels_config": {
    "python": {
     "delete_cmd_postfix": "",
     "delete_cmd_prefix": "del ",
     "library": "var_list.py",
     "varRefreshCmd": "print(var_dic_list())"
    },
    "r": {
     "delete_cmd_postfix": ") ",
     "delete_cmd_prefix": "rm(",
     "library": "var_list.r",
     "varRefreshCmd": "cat(var_dic_list()) "
    }
   },
   "types_to_exclude": [
    "module",
    "function",
    "builtin_function_or_method",
    "instance",
    "_Feature"
   ],
   "window_display": false
  }
 },
 "nbformat": 4,
 "nbformat_minor": 5
}
